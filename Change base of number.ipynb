{
 "cells": [
  {
   "cell_type": "markdown",
   "id": "151637e4",
   "metadata": {},
   "source": [
    "In mathematics, base conversion is the process of changing a number from one base to another. A base is the number of digits used to represent a number system. For example, the decimal (base 10) system uses ten digits (0,1,2,3,4,5,6,7,8,9) while the binary (base 2) system uses two digits (0,1)."
   ]
  },
  {
   "cell_type": "code",
   "execution_count": 4,
   "id": "17c41455",
   "metadata": {},
   "outputs": [
    {
     "name": "stdout",
     "output_type": "stream",
     "text": [
      "Enter the number: C6\n",
      "Enter the base of the number you enterd above: 14\n",
      "Enter the base to convert to: 10\n",
      "C6 in base 14 is 174 in base 10\n"
     ]
    }
   ],
   "source": [
    "def convert_base(num, base1, base2):\n",
    "    # Convert the number to base 10\n",
    "    base10 = 0\n",
    "    power = 0\n",
    "    digits = list(str(num))\n",
    "    if base1 > 10:\n",
    "        digits = [ord(d) - ord('A') + 10 if d.isalpha() else int(d) for d in digits]\n",
    "    digits.reverse()\n",
    "    for digit in digits:\n",
    "        base10 += digit * (base1 ** power)\n",
    "        power += 1\n",
    "    \n",
    "    # Convert the number to the desired base\n",
    "    result = ''\n",
    "    while base10 > 0:\n",
    "        digit = base10 % base2\n",
    "        if digit >= 10:\n",
    "            result += chr(digit - 10 + ord('A'))\n",
    "        else:\n",
    "            result += str(digit)\n",
    "        base10 //= base2\n",
    "    return result[::-1]\n",
    "\n",
    "# Get user inputs\n",
    "num = input(\"Enter the number: \")\n",
    "base1 = int(input(\"Enter the base of the number you enterd above: \"))\n",
    "base2 = int(input(\"Enter the base to convert to: \"))\n",
    "\n",
    "# Convert the number to the desired base\n",
    "result = convert_base(num, base1, base2)\n",
    "\n",
    "# Print the result\n",
    "print(f\"{num} in base {base1} is {result} in base {base2}\")\n"
   ]
  },
  {
   "cell_type": "markdown",
   "id": "cb8e0d06",
   "metadata": {},
   "source": [
    "To use this code, simply run the cell in your Jupyter Notebook and follow the prompts to enter the number in base ten and the base to convert to. The code will then convert the number to the specified base and print the result.\n",
    "\n",
    "For example, to convert the number 42 in base ten to base two, you would enter 42 for the number and 2 for the base. The code will then convert the number to binary and print the result like this: 42 in base ten is 101010 in base 2. To convert 42 in base ten to base eight, you would enter 42 for the number and 8 for the base. The code will then convert the number to octal and print the result like this: 42 in base ten is 52 in base 8"
   ]
  },
  {
   "cell_type": "code",
   "execution_count": null,
   "id": "9fa48d79",
   "metadata": {},
   "outputs": [],
   "source": []
  }
 ],
 "metadata": {
  "kernelspec": {
   "display_name": "Python 3 (ipykernel)",
   "language": "python",
   "name": "python3"
  },
  "language_info": {
   "codemirror_mode": {
    "name": "ipython",
    "version": 3
   },
   "file_extension": ".py",
   "mimetype": "text/x-python",
   "name": "python",
   "nbconvert_exporter": "python",
   "pygments_lexer": "ipython3",
   "version": "3.9.12"
  }
 },
 "nbformat": 4,
 "nbformat_minor": 5
}
